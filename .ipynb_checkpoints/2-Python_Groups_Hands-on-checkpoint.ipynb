{
 "cells": [
  {
   "cell_type": "markdown",
   "metadata": {
    "id": "kZXiW0-J0-2x"
   },
   "source": [
    "# Python_Groups_Hands-on\n"
   ]
  },
  {
   "cell_type": "markdown",
   "metadata": {
    "id": "I05A6_S80-2y"
   },
   "source": [
    "## Project: Library Management System\n",
    "### Description:\n",
    "- Develop a basic Library Management System (LMS) that allows users to manage book records, including adding, updating, deleting, and displaying book information. The system should also provide basic statistical analysis.\n",
    "\n",
    "### System requirements:\n",
    "\n",
    "#### Data Structure Design:\n",
    "\n",
    "  - Define data structures using lists, tuples, dictionaries, and sets to store book information (e.g., book ID, title, author, year, genres).\n",
    "\n",
    "#### Basic Operations:\n",
    "\n",
    "- Implement functions to add, update, delete, and display book records.\n",
    "- Ensure proper type conversion and validation of inputs.\n",
    "\n",
    "#### Statistical Analysis:\n",
    "\n",
    "- Write functions to calculate and display the total number of books, the average publication year, and the most common genre.\n",
    "- Use list comprehensions and built-in functions (sort, len, zip, range) for calculations.\n",
    "\n",
    "#### Advanced Features:\n",
    "\n",
    "- Implement search functionality to find books by title or author using lambda functions.\n",
    "- Provide sorting options for book records based on different criteria (e.g., title, year).\n",
    "\n",
    "\n",
    "#### Exception Handling:\n",
    "\n",
    "- Handle potential errors (e.g., invalid input) using try-except blocks."
   ]
  },
  {
   "cell_type": "markdown",
   "metadata": {
    "id": "rXuH9y0_D76o"
   },
   "source": [
    "#### Q1: Using the following table, create a function to add these books to your library:\n",
    "\n",
    "\n",
    "\n",
    "| Book ID | Title                            | Author               | Year | Genres                              |\n",
    "|---------|----------------------------------|----------------------|------|-------------------------------------|\n",
    "| 1       | Harry Potter and the Sorcerer's Stone | J.K. Rowling         | 1997 | Fantasy, Young Adult                |\n",
    "| 2       | To Kill a Mockingbird             | Harper Lee           | 1960 | Fiction, Classics                   |\n",
    "| 3       | The Great Gatsby                  | F. Scott Fitzgerald  | 1925 | Fiction, Classics                   |\n",
    "| 4       | 1984                              | George Orwell        | 1949 | Fiction, Dystopian                  |\n",
    "| 5       | The Catcher in the Rye            | J.D. Salinger        | 1951 | Fiction, Classics                   |\n",
    "| 6       | Pride and Prejudice               | Jane Austen          | 1813 | Fiction, Romance, Classics          |\n",
    "| 7       | The Hobbit                        | J.R.R. Tolkien       | 1937 | Fantasy, Adventure                  |\n",
    "| 8       | The Hunger Games                  | Suzanne Collins      | 2008 | Science Fiction, Dystopian, Young Adult |\n",
    "| 9       | The Da Vinci Code                 | Dan Brown            | 2003 | Mystery, Thriller                   |\n",
    "| 10      | The Chronicles of Narnia          | C.S. Lewis           | 1950 | Fantasy, Children's Literature      |\n",
    "| 11      | Gone with the Wind                | Margaret Mitchell    | 1936 | Historical Fiction, Romance         |\n",
    "| 12      | Sapiens: A Brief History of Humankind | Yuval Noah Harari   | 2011 | Nonfiction, History, Science        |\n",
    "| 13      | The Road                          | Cormac McCarthy      | 2006 | Fiction, Post-Apocalyptic           |\n",
    "| 14      | The Girl with the Dragon Tattoo   | Stieg Larsson        | 2005 | Mystery, Thriller                   |\n",
    "| 15      | The Alchemist                     | Paulo Coelho         | 1988 | Fiction, Inspirational              |\n"
   ]
  },
  {
   "cell_type": "code",
   "execution_count": 2,
   "metadata": {
    "id": "BzV_B_g20-2z"
   },
   "outputs": [],
   "source": [
    "li = []"
   ]
  },
  {
   "cell_type": "code",
   "execution_count": 4,
   "metadata": {
    "id": "BzV_B_g20-2z"
   },
   "outputs": [],
   "source": [
    "def add_book(bookId = 0, title = \"\", author = \"\", year = 0 , genres = []):\n",
    "    check = False\n",
    "    for l in li:\n",
    "        if l[\"Book ID\"] == bookId:\n",
    "            check = True\n",
    "    if not check:\n",
    "        d = {}\n",
    "        d[\"Book ID\"] = bookId\n",
    "        d[\"Title\"] = title\n",
    "        d[\"Author\"] = author\n",
    "        d[\"Year\"] = year\n",
    "        d[\"Genres\"] = genres\n",
    "        li.append(d)\n",
    "    else:\n",
    "        print(\"Book ID Token\")\n"
   ]
  },
  {
   "cell_type": "code",
   "execution_count": 6,
   "metadata": {
    "id": "BzV_B_g20-2z"
   },
   "outputs": [],
   "source": [
    "add_book(1, \"Harry Potter and the Sorcerer's Stone\", \"J.K. Rowling\", 1997, [\"Fantasy\", \"Young\", \"Adult\"])"
   ]
  },
  {
   "cell_type": "code",
   "execution_count": 8,
   "metadata": {
    "id": "BzV_B_g20-2z"
   },
   "outputs": [],
   "source": [
    "add_book(2, \"To Kill a Mockingbird\", \"Harper Lee\", 1960, [\"Fiction\", \"Classics\"])"
   ]
  },
  {
   "cell_type": "code",
   "execution_count": 10,
   "metadata": {
    "id": "BzV_B_g20-2z"
   },
   "outputs": [],
   "source": [
    "add_book(3, \"The Great Gatsby\", \"F. Scott Fitzgerald\", 1925, [\"Fiction\", \"Classics\"])"
   ]
  },
  {
   "cell_type": "code",
   "execution_count": 12,
   "metadata": {
    "id": "BzV_B_g20-2z"
   },
   "outputs": [],
   "source": [
    "add_book(4, \"1984\", \"George Orwell\", 1949, [\"Fiction\", \"Dystopian\"])"
   ]
  },
  {
   "cell_type": "code",
   "execution_count": 14,
   "metadata": {
    "id": "BzV_B_g20-2z"
   },
   "outputs": [],
   "source": [
    "add_book(5, \"The Catcher in the Rye\", \"J.D. Salinger\", 1951, [\"Fiction\", \"Classics\"])"
   ]
  },
  {
   "cell_type": "code",
   "execution_count": 16,
   "metadata": {
    "id": "BzV_B_g20-2z"
   },
   "outputs": [],
   "source": [
    "add_book(6, \"Pride and Prejudice\", \"Jane Austen\", 1813, [\"Fiction\", \"Romance\", \"Classics\"])"
   ]
  },
  {
   "cell_type": "code",
   "execution_count": 18,
   "metadata": {
    "id": "BzV_B_g20-2z"
   },
   "outputs": [],
   "source": [
    "add_book(7, \"The Hobbit\", \"J.R.R. Tolkien\", 1937, [\"Fantasy\", \"Adventure\"])"
   ]
  },
  {
   "cell_type": "code",
   "execution_count": 20,
   "metadata": {
    "id": "BzV_B_g20-2z"
   },
   "outputs": [],
   "source": [
    "add_book(8, \"The Hunger Games\", \"Suzanne Collins\", 2008, [\"Science\", \"Fiction\", \"Dystopian\", \"Young\", \"Adult\"])"
   ]
  },
  {
   "cell_type": "code",
   "execution_count": 22,
   "metadata": {
    "id": "BzV_B_g20-2z"
   },
   "outputs": [],
   "source": [
    "add_book(9, \"The Da Vinci Code\", \"Dan Brown\", 2003, [\"Mystery\", \"Thriller\"])"
   ]
  },
  {
   "cell_type": "code",
   "execution_count": 24,
   "metadata": {
    "id": "BzV_B_g20-2z"
   },
   "outputs": [],
   "source": [
    "add_book(10, \"The Chronicles of Narnia\", \"C.S. Lewis\", 1950, [\"Fantasy\", \"Children's\", \"Literature\"])"
   ]
  },
  {
   "cell_type": "code",
   "execution_count": 26,
   "metadata": {
    "id": "BzV_B_g20-2z"
   },
   "outputs": [],
   "source": [
    "add_book(11, \"Gone with the Wind\", \"Margaret Mitchell\", 1936, [\"Historical\", \"Fiction\", \"Romance\"])"
   ]
  },
  {
   "cell_type": "code",
   "execution_count": 28,
   "metadata": {
    "id": "BzV_B_g20-2z"
   },
   "outputs": [],
   "source": [
    "add_book(12, \"Sapiens: A Brief History of Humankind\", \"Yuval Noah Harari\", 2011, [\"Nonfiction\", \"History\", \"Science\"])"
   ]
  },
  {
   "cell_type": "code",
   "execution_count": 30,
   "metadata": {
    "id": "BzV_B_g20-2z"
   },
   "outputs": [],
   "source": [
    "add_book(13, \"The Road\", \"Cormac McCarthy\", 2006, [\"Fiction\", \"Post-Apocalyptic\"])"
   ]
  },
  {
   "cell_type": "code",
   "execution_count": 32,
   "metadata": {
    "id": "BzV_B_g20-2z"
   },
   "outputs": [],
   "source": [
    "add_book(14, \"The Girl with the Dragon Tattoo\", \"Stieg Larsson\", 2005, [\"Mystery\", \"Thriller\"])"
   ]
  },
  {
   "cell_type": "code",
   "execution_count": 34,
   "metadata": {
    "id": "BzV_B_g20-2z"
   },
   "outputs": [],
   "source": [
    "add_book(15, \"The Alchemist\", \"Paulo Coelho\", 1988, [\"Fiction\", \"Inspirational\"])"
   ]
  },
  {
   "cell_type": "code",
   "execution_count": 36,
   "metadata": {
    "id": "BzV_B_g20-2z"
   },
   "outputs": [],
   "source": [
    "add_book(16, \"2024\", \"George Orwell\", 2024, [\"Fiction\", \"Dystopian\"])"
   ]
  },
  {
   "cell_type": "code",
   "execution_count": 38,
   "metadata": {
    "id": "BzV_B_g20-2z"
   },
   "outputs": [
    {
     "data": {
      "text/plain": [
       "[{'Book ID': 1,\n",
       "  'Title': \"Harry Potter and the Sorcerer's Stone\",\n",
       "  'Author': 'J.K. Rowling',\n",
       "  'Year': 1997,\n",
       "  'Genres': ['Fantasy', 'Young', 'Adult']},\n",
       " {'Book ID': 2,\n",
       "  'Title': 'To Kill a Mockingbird',\n",
       "  'Author': 'Harper Lee',\n",
       "  'Year': 1960,\n",
       "  'Genres': ['Fiction', 'Classics']},\n",
       " {'Book ID': 3,\n",
       "  'Title': 'The Great Gatsby',\n",
       "  'Author': 'F. Scott Fitzgerald',\n",
       "  'Year': 1925,\n",
       "  'Genres': ['Fiction', 'Classics']},\n",
       " {'Book ID': 4,\n",
       "  'Title': '1984',\n",
       "  'Author': 'George Orwell',\n",
       "  'Year': 1949,\n",
       "  'Genres': ['Fiction', 'Dystopian']},\n",
       " {'Book ID': 5,\n",
       "  'Title': 'The Catcher in the Rye',\n",
       "  'Author': 'J.D. Salinger',\n",
       "  'Year': 1951,\n",
       "  'Genres': ['Fiction', 'Classics']},\n",
       " {'Book ID': 6,\n",
       "  'Title': 'Pride and Prejudice',\n",
       "  'Author': 'Jane Austen',\n",
       "  'Year': 1813,\n",
       "  'Genres': ['Fiction', 'Romance', 'Classics']},\n",
       " {'Book ID': 7,\n",
       "  'Title': 'The Hobbit',\n",
       "  'Author': 'J.R.R. Tolkien',\n",
       "  'Year': 1937,\n",
       "  'Genres': ['Fantasy', 'Adventure']},\n",
       " {'Book ID': 8,\n",
       "  'Title': 'The Hunger Games',\n",
       "  'Author': 'Suzanne Collins',\n",
       "  'Year': 2008,\n",
       "  'Genres': ['Science', 'Fiction', 'Dystopian', 'Young', 'Adult']},\n",
       " {'Book ID': 9,\n",
       "  'Title': 'The Da Vinci Code',\n",
       "  'Author': 'Dan Brown',\n",
       "  'Year': 2003,\n",
       "  'Genres': ['Mystery', 'Thriller']},\n",
       " {'Book ID': 10,\n",
       "  'Title': 'The Chronicles of Narnia',\n",
       "  'Author': 'C.S. Lewis',\n",
       "  'Year': 1950,\n",
       "  'Genres': ['Fantasy', \"Children's\", 'Literature']},\n",
       " {'Book ID': 11,\n",
       "  'Title': 'Gone with the Wind',\n",
       "  'Author': 'Margaret Mitchell',\n",
       "  'Year': 1936,\n",
       "  'Genres': ['Historical', 'Fiction', 'Romance']},\n",
       " {'Book ID': 12,\n",
       "  'Title': 'Sapiens: A Brief History of Humankind',\n",
       "  'Author': 'Yuval Noah Harari',\n",
       "  'Year': 2011,\n",
       "  'Genres': ['Nonfiction', 'History', 'Science']},\n",
       " {'Book ID': 13,\n",
       "  'Title': 'The Road',\n",
       "  'Author': 'Cormac McCarthy',\n",
       "  'Year': 2006,\n",
       "  'Genres': ['Fiction', 'Post-Apocalyptic']},\n",
       " {'Book ID': 14,\n",
       "  'Title': 'The Girl with the Dragon Tattoo',\n",
       "  'Author': 'Stieg Larsson',\n",
       "  'Year': 2005,\n",
       "  'Genres': ['Mystery', 'Thriller']},\n",
       " {'Book ID': 15,\n",
       "  'Title': 'The Alchemist',\n",
       "  'Author': 'Paulo Coelho',\n",
       "  'Year': 1988,\n",
       "  'Genres': ['Fiction', 'Inspirational']},\n",
       " {'Book ID': 16,\n",
       "  'Title': '2024',\n",
       "  'Author': 'George Orwell',\n",
       "  'Year': 2024,\n",
       "  'Genres': ['Fiction', 'Dystopian']}]"
      ]
     },
     "execution_count": 38,
     "metadata": {},
     "output_type": "execute_result"
    }
   ],
   "source": [
    "li"
   ]
  },
  {
   "cell_type": "markdown",
   "metadata": {
    "id": "kR5bvgOsF3oJ"
   },
   "source": [
    "#### Q2: Create a function that updates books exsisted in your library and test it.\n",
    "- **Note**: If the user entered wrong book ID it should print \"Book with ID 'num' does not exist."
   ]
  },
  {
   "cell_type": "code",
   "execution_count": 40,
   "metadata": {
    "id": "U60cFkbUUYmj"
   },
   "outputs": [],
   "source": [
    "def update_book(bookId = 0, title = \"\", author = \"\", year = 0 , genres = []):\n",
    "    check = False\n",
    "    for ind, l in enumerate(li):\n",
    "        if l[\"Book ID\"] == bookId:\n",
    "            check = True\n",
    "            if title:\n",
    "                li[ind][\"Title\"] = title\n",
    "            if author:\n",
    "                li[ind][\"Author\"] = author\n",
    "            if year:\n",
    "                li[ind][\"Year\"] = year\n",
    "            if genres:\n",
    "                li[ind][\"Genres\"] = genres\n",
    "    if not check:\n",
    "        print(\"Book with ID 'num' does not exist.\")"
   ]
  },
  {
   "cell_type": "code",
   "execution_count": 42,
   "metadata": {
    "id": "U60cFkbUUYmj"
   },
   "outputs": [],
   "source": [
    "update_book(16, title = \"2024 !\")"
   ]
  },
  {
   "cell_type": "code",
   "execution_count": 44,
   "metadata": {
    "id": "U60cFkbUUYmj"
   },
   "outputs": [
    {
     "data": {
      "text/plain": [
       "[{'Book ID': 1,\n",
       "  'Title': \"Harry Potter and the Sorcerer's Stone\",\n",
       "  'Author': 'J.K. Rowling',\n",
       "  'Year': 1997,\n",
       "  'Genres': ['Fantasy', 'Young', 'Adult']},\n",
       " {'Book ID': 2,\n",
       "  'Title': 'To Kill a Mockingbird',\n",
       "  'Author': 'Harper Lee',\n",
       "  'Year': 1960,\n",
       "  'Genres': ['Fiction', 'Classics']},\n",
       " {'Book ID': 3,\n",
       "  'Title': 'The Great Gatsby',\n",
       "  'Author': 'F. Scott Fitzgerald',\n",
       "  'Year': 1925,\n",
       "  'Genres': ['Fiction', 'Classics']},\n",
       " {'Book ID': 4,\n",
       "  'Title': '1984',\n",
       "  'Author': 'George Orwell',\n",
       "  'Year': 1949,\n",
       "  'Genres': ['Fiction', 'Dystopian']},\n",
       " {'Book ID': 5,\n",
       "  'Title': 'The Catcher in the Rye',\n",
       "  'Author': 'J.D. Salinger',\n",
       "  'Year': 1951,\n",
       "  'Genres': ['Fiction', 'Classics']},\n",
       " {'Book ID': 6,\n",
       "  'Title': 'Pride and Prejudice',\n",
       "  'Author': 'Jane Austen',\n",
       "  'Year': 1813,\n",
       "  'Genres': ['Fiction', 'Romance', 'Classics']},\n",
       " {'Book ID': 7,\n",
       "  'Title': 'The Hobbit',\n",
       "  'Author': 'J.R.R. Tolkien',\n",
       "  'Year': 1937,\n",
       "  'Genres': ['Fantasy', 'Adventure']},\n",
       " {'Book ID': 8,\n",
       "  'Title': 'The Hunger Games',\n",
       "  'Author': 'Suzanne Collins',\n",
       "  'Year': 2008,\n",
       "  'Genres': ['Science', 'Fiction', 'Dystopian', 'Young', 'Adult']},\n",
       " {'Book ID': 9,\n",
       "  'Title': 'The Da Vinci Code',\n",
       "  'Author': 'Dan Brown',\n",
       "  'Year': 2003,\n",
       "  'Genres': ['Mystery', 'Thriller']},\n",
       " {'Book ID': 10,\n",
       "  'Title': 'The Chronicles of Narnia',\n",
       "  'Author': 'C.S. Lewis',\n",
       "  'Year': 1950,\n",
       "  'Genres': ['Fantasy', \"Children's\", 'Literature']},\n",
       " {'Book ID': 11,\n",
       "  'Title': 'Gone with the Wind',\n",
       "  'Author': 'Margaret Mitchell',\n",
       "  'Year': 1936,\n",
       "  'Genres': ['Historical', 'Fiction', 'Romance']},\n",
       " {'Book ID': 12,\n",
       "  'Title': 'Sapiens: A Brief History of Humankind',\n",
       "  'Author': 'Yuval Noah Harari',\n",
       "  'Year': 2011,\n",
       "  'Genres': ['Nonfiction', 'History', 'Science']},\n",
       " {'Book ID': 13,\n",
       "  'Title': 'The Road',\n",
       "  'Author': 'Cormac McCarthy',\n",
       "  'Year': 2006,\n",
       "  'Genres': ['Fiction', 'Post-Apocalyptic']},\n",
       " {'Book ID': 14,\n",
       "  'Title': 'The Girl with the Dragon Tattoo',\n",
       "  'Author': 'Stieg Larsson',\n",
       "  'Year': 2005,\n",
       "  'Genres': ['Mystery', 'Thriller']},\n",
       " {'Book ID': 15,\n",
       "  'Title': 'The Alchemist',\n",
       "  'Author': 'Paulo Coelho',\n",
       "  'Year': 1988,\n",
       "  'Genres': ['Fiction', 'Inspirational']},\n",
       " {'Book ID': 16,\n",
       "  'Title': '2024 !',\n",
       "  'Author': 'George Orwell',\n",
       "  'Year': 2024,\n",
       "  'Genres': ['Fiction', 'Dystopian']}]"
      ]
     },
     "execution_count": 44,
     "metadata": {},
     "output_type": "execute_result"
    }
   ],
   "source": [
    "li"
   ]
  },
  {
   "cell_type": "markdown",
   "metadata": {
    "id": "ME3j_m-eLhyH"
   },
   "source": [
    "#### Q3: Create a function to delete books from your library and test it."
   ]
  },
  {
   "cell_type": "code",
   "execution_count": 46,
   "metadata": {
    "id": "JlGIx-gJUadK"
   },
   "outputs": [],
   "source": [
    "def delete_book(bookId = 0):\n",
    "    check = False\n",
    "    for ind, l in enumerate(li):\n",
    "        if l[\"Book ID\"] == bookId:\n",
    "            li.pop(ind)\n",
    "            print(\"Deleted\")\n",
    "            check = True\n",
    "    if not check:\n",
    "        print(\"Book with ID 'num' does not exist.\")"
   ]
  },
  {
   "cell_type": "code",
   "execution_count": 48,
   "metadata": {
    "id": "JlGIx-gJUadK"
   },
   "outputs": [
    {
     "name": "stdout",
     "output_type": "stream",
     "text": [
      "Deleted\n"
     ]
    }
   ],
   "source": [
    "delete_book(5)"
   ]
  },
  {
   "cell_type": "code",
   "execution_count": 50,
   "metadata": {
    "id": "JlGIx-gJUadK"
   },
   "outputs": [
    {
     "data": {
      "text/plain": [
       "[{'Book ID': 1,\n",
       "  'Title': \"Harry Potter and the Sorcerer's Stone\",\n",
       "  'Author': 'J.K. Rowling',\n",
       "  'Year': 1997,\n",
       "  'Genres': ['Fantasy', 'Young', 'Adult']},\n",
       " {'Book ID': 2,\n",
       "  'Title': 'To Kill a Mockingbird',\n",
       "  'Author': 'Harper Lee',\n",
       "  'Year': 1960,\n",
       "  'Genres': ['Fiction', 'Classics']},\n",
       " {'Book ID': 3,\n",
       "  'Title': 'The Great Gatsby',\n",
       "  'Author': 'F. Scott Fitzgerald',\n",
       "  'Year': 1925,\n",
       "  'Genres': ['Fiction', 'Classics']},\n",
       " {'Book ID': 4,\n",
       "  'Title': '1984',\n",
       "  'Author': 'George Orwell',\n",
       "  'Year': 1949,\n",
       "  'Genres': ['Fiction', 'Dystopian']},\n",
       " {'Book ID': 6,\n",
       "  'Title': 'Pride and Prejudice',\n",
       "  'Author': 'Jane Austen',\n",
       "  'Year': 1813,\n",
       "  'Genres': ['Fiction', 'Romance', 'Classics']},\n",
       " {'Book ID': 7,\n",
       "  'Title': 'The Hobbit',\n",
       "  'Author': 'J.R.R. Tolkien',\n",
       "  'Year': 1937,\n",
       "  'Genres': ['Fantasy', 'Adventure']},\n",
       " {'Book ID': 8,\n",
       "  'Title': 'The Hunger Games',\n",
       "  'Author': 'Suzanne Collins',\n",
       "  'Year': 2008,\n",
       "  'Genres': ['Science', 'Fiction', 'Dystopian', 'Young', 'Adult']},\n",
       " {'Book ID': 9,\n",
       "  'Title': 'The Da Vinci Code',\n",
       "  'Author': 'Dan Brown',\n",
       "  'Year': 2003,\n",
       "  'Genres': ['Mystery', 'Thriller']},\n",
       " {'Book ID': 10,\n",
       "  'Title': 'The Chronicles of Narnia',\n",
       "  'Author': 'C.S. Lewis',\n",
       "  'Year': 1950,\n",
       "  'Genres': ['Fantasy', \"Children's\", 'Literature']},\n",
       " {'Book ID': 11,\n",
       "  'Title': 'Gone with the Wind',\n",
       "  'Author': 'Margaret Mitchell',\n",
       "  'Year': 1936,\n",
       "  'Genres': ['Historical', 'Fiction', 'Romance']},\n",
       " {'Book ID': 12,\n",
       "  'Title': 'Sapiens: A Brief History of Humankind',\n",
       "  'Author': 'Yuval Noah Harari',\n",
       "  'Year': 2011,\n",
       "  'Genres': ['Nonfiction', 'History', 'Science']},\n",
       " {'Book ID': 13,\n",
       "  'Title': 'The Road',\n",
       "  'Author': 'Cormac McCarthy',\n",
       "  'Year': 2006,\n",
       "  'Genres': ['Fiction', 'Post-Apocalyptic']},\n",
       " {'Book ID': 14,\n",
       "  'Title': 'The Girl with the Dragon Tattoo',\n",
       "  'Author': 'Stieg Larsson',\n",
       "  'Year': 2005,\n",
       "  'Genres': ['Mystery', 'Thriller']},\n",
       " {'Book ID': 15,\n",
       "  'Title': 'The Alchemist',\n",
       "  'Author': 'Paulo Coelho',\n",
       "  'Year': 1988,\n",
       "  'Genres': ['Fiction', 'Inspirational']},\n",
       " {'Book ID': 16,\n",
       "  'Title': '2024 !',\n",
       "  'Author': 'George Orwell',\n",
       "  'Year': 2024,\n",
       "  'Genres': ['Fiction', 'Dystopian']}]"
      ]
     },
     "execution_count": 50,
     "metadata": {},
     "output_type": "execute_result"
    }
   ],
   "source": [
    "li"
   ]
  },
  {
   "cell_type": "markdown",
   "metadata": {
    "id": "MIamnChwNgFr"
   },
   "source": [
    "#### Q4: Create a function that displays books information from your library and test it."
   ]
  },
  {
   "cell_type": "code",
   "execution_count": 52,
   "metadata": {
    "id": "xFNIK3YvUbz5"
   },
   "outputs": [],
   "source": [
    "def show_book(bookId):\n",
    "    check = False\n",
    "    for l in li:\n",
    "        if l[\"Book ID\"] == bookId:\n",
    "            print(\"Book title : \" \n",
    "                  + l[\"Title\"] + \n",
    "                  \"\\nBook Author : \" + l[\"Author\"] + \n",
    "                  \"\\nReleased year : \" + str(l[\"Year\"]) + \n",
    "                  \"\\nGenres : \" + \", \".join(l[\"Genres\"]))\n",
    "            check = True\n",
    "    if not check:\n",
    "        print(\"Book with ID 'num' does not exist.\")"
   ]
  },
  {
   "cell_type": "code",
   "execution_count": 54,
   "metadata": {
    "id": "xFNIK3YvUbz5"
   },
   "outputs": [
    {
     "name": "stdout",
     "output_type": "stream",
     "text": [
      "Book with ID 'num' does not exist.\n"
     ]
    }
   ],
   "source": [
    "show_book(5)"
   ]
  },
  {
   "cell_type": "code",
   "execution_count": 56,
   "metadata": {
    "id": "xFNIK3YvUbz5"
   },
   "outputs": [
    {
     "name": "stdout",
     "output_type": "stream",
     "text": [
      "Book title : 2024 !\n",
      "Book Author : George Orwell\n",
      "Released year : 2024\n",
      "Genres : Fiction, Dystopian\n"
     ]
    }
   ],
   "source": [
    "show_book(16)"
   ]
  },
  {
   "cell_type": "markdown",
   "metadata": {
    "id": "OvfdKdBqNt22"
   },
   "source": [
    "#### Q5: Create functions to do the following: calculates and display the total number of books, the average publication year, and the most common genre. and test it."
   ]
  },
  {
   "cell_type": "code",
   "execution_count": 58,
   "metadata": {
    "id": "mWg5eHIWUcsU"
   },
   "outputs": [],
   "source": [
    "def status():\n",
    "    length = len(li)\n",
    "    print(\"Totle number of books : \" + str(length))\n",
    "    \n",
    "    average = 0\n",
    "    for l in li:\n",
    "        average += l[\"Year\"]\n",
    "    if average > 0:\n",
    "        average = average / length\n",
    "\n",
    "    print(\"Average of publication years : \" + str(average))\n",
    "    \n",
    "    d = {}\n",
    "    for l in li:\n",
    "        for i in l[\"Genres\"]:\n",
    "            if i in d:\n",
    "                d[i] = d[i] + 1\n",
    "            else:\n",
    "                d[i] = 1 \n",
    "\n",
    "    d = sorted(d.items(), key=lambda x:x[1], reverse=True)\n",
    "    print(\"Most common genre : \" + str(d[0][0]))"
   ]
  },
  {
   "cell_type": "code",
   "execution_count": 60,
   "metadata": {
    "id": "mWg5eHIWUcsU"
   },
   "outputs": [
    {
     "name": "stdout",
     "output_type": "stream",
     "text": [
      "Totle number of books : 15\n",
      "Average of publication years : 1967.4666666666667\n",
      "Most common genre : Fiction\n"
     ]
    }
   ],
   "source": [
    "status()"
   ]
  },
  {
   "cell_type": "markdown",
   "metadata": {
    "id": "IuVLtf7dQaUW"
   },
   "source": [
    "#### Q6: Create 2 functions to search for books by the title and the author from your library and test it."
   ]
  },
  {
   "cell_type": "code",
   "execution_count": 62,
   "metadata": {
    "id": "7LnwRJLCUe3p"
   },
   "outputs": [],
   "source": [
    "def show_book_by_title(title = \"\"):\n",
    "    check = False\n",
    "    for l in li:\n",
    "        if l[\"Title\"] == title:\n",
    "            print(\"Book title : \" + l[\"Title\"] + \"\\nBook Author : \" + l[\"Author\"] + \"\\nReleased year : \" + str(l[\"Year\"]) + \"\\nGenres : \" + \", \".join(l[\"Genres\"]))\n",
    "            print(\"\\n\")\n",
    "            check = True\n",
    "    if not check:\n",
    "        print(\"Book with Title and Author does not exist.\")"
   ]
  },
  {
   "cell_type": "code",
   "execution_count": 64,
   "metadata": {
    "id": "7LnwRJLCUe3p"
   },
   "outputs": [],
   "source": [
    "def show_book_by_author(author = \"\"):\n",
    "    check = False\n",
    "    for l in li:\n",
    "        if l[\"Author\"] == author:\n",
    "            print(\"Book title : \" + l[\"Title\"] + \"\\nBook Author : \" + l[\"Author\"] + \"\\nReleased year : \" + str(l[\"Year\"]) + \"\\nGenres : \" + \", \".join(l[\"Genres\"]))\n",
    "            print(\"\\n\")\n",
    "            check = True\n",
    "    if not check:\n",
    "        print(\"Book with Title and Author does not exist.\")"
   ]
  },
  {
   "cell_type": "code",
   "execution_count": 66,
   "metadata": {
    "id": "7LnwRJLCUe3p"
   },
   "outputs": [
    {
     "name": "stdout",
     "output_type": "stream",
     "text": [
      "Book title : Harry Potter and the Sorcerer's Stone\n",
      "Book Author : J.K. Rowling\n",
      "Released year : 1997\n",
      "Genres : Fantasy, Young, Adult\n",
      "\n",
      "\n"
     ]
    }
   ],
   "source": [
    "show_book_by_title(\"Harry Potter and the Sorcerer's Stone\")"
   ]
  },
  {
   "cell_type": "code",
   "execution_count": 68,
   "metadata": {
    "id": "7LnwRJLCUe3p"
   },
   "outputs": [
    {
     "name": "stdout",
     "output_type": "stream",
     "text": [
      "Book title : Harry Potter and the Sorcerer's Stone\n",
      "Book Author : J.K. Rowling\n",
      "Released year : 1997\n",
      "Genres : Fantasy, Young, Adult\n",
      "\n",
      "\n"
     ]
    }
   ],
   "source": [
    "show_book_by_author(\"J.K. Rowling\")"
   ]
  },
  {
   "cell_type": "markdown",
   "metadata": {
    "id": "fAu2ozKBQzJu"
   },
   "source": [
    "#### Q7: Create 2 functions to sort the books by the title and the year from your library and test it."
   ]
  },
  {
   "cell_type": "code",
   "execution_count": 70,
   "metadata": {
    "id": "X4PyuHTMUgHl"
   },
   "outputs": [],
   "source": [
    "def sort_book_by_title(li):\n",
    "    li = sorted(li, key=lambda x: (x['Title']))\n",
    "    return li"
   ]
  },
  {
   "cell_type": "code",
   "execution_count": 72,
   "metadata": {
    "id": "X4PyuHTMUgHl"
   },
   "outputs": [],
   "source": [
    "def sort_book_by_year(li):\n",
    "    li = sorted(li, key=lambda x: (x['Year']))\n",
    "    return li"
   ]
  },
  {
   "cell_type": "code",
   "execution_count": 74,
   "metadata": {
    "id": "X4PyuHTMUgHl"
   },
   "outputs": [
    {
     "name": "stdout",
     "output_type": "stream",
     "text": [
      "[{'Book ID': 4, 'Title': '1984', 'Author': 'George Orwell', 'Year': 1949, 'Genres': ['Fiction', 'Dystopian']}, {'Book ID': 16, 'Title': '2024 !', 'Author': 'George Orwell', 'Year': 2024, 'Genres': ['Fiction', 'Dystopian']}, {'Book ID': 11, 'Title': 'Gone with the Wind', 'Author': 'Margaret Mitchell', 'Year': 1936, 'Genres': ['Historical', 'Fiction', 'Romance']}, {'Book ID': 1, 'Title': \"Harry Potter and the Sorcerer's Stone\", 'Author': 'J.K. Rowling', 'Year': 1997, 'Genres': ['Fantasy', 'Young', 'Adult']}, {'Book ID': 6, 'Title': 'Pride and Prejudice', 'Author': 'Jane Austen', 'Year': 1813, 'Genres': ['Fiction', 'Romance', 'Classics']}, {'Book ID': 12, 'Title': 'Sapiens: A Brief History of Humankind', 'Author': 'Yuval Noah Harari', 'Year': 2011, 'Genres': ['Nonfiction', 'History', 'Science']}, {'Book ID': 15, 'Title': 'The Alchemist', 'Author': 'Paulo Coelho', 'Year': 1988, 'Genres': ['Fiction', 'Inspirational']}, {'Book ID': 10, 'Title': 'The Chronicles of Narnia', 'Author': 'C.S. Lewis', 'Year': 1950, 'Genres': ['Fantasy', \"Children's\", 'Literature']}, {'Book ID': 9, 'Title': 'The Da Vinci Code', 'Author': 'Dan Brown', 'Year': 2003, 'Genres': ['Mystery', 'Thriller']}, {'Book ID': 14, 'Title': 'The Girl with the Dragon Tattoo', 'Author': 'Stieg Larsson', 'Year': 2005, 'Genres': ['Mystery', 'Thriller']}, {'Book ID': 3, 'Title': 'The Great Gatsby', 'Author': 'F. Scott Fitzgerald', 'Year': 1925, 'Genres': ['Fiction', 'Classics']}, {'Book ID': 7, 'Title': 'The Hobbit', 'Author': 'J.R.R. Tolkien', 'Year': 1937, 'Genres': ['Fantasy', 'Adventure']}, {'Book ID': 8, 'Title': 'The Hunger Games', 'Author': 'Suzanne Collins', 'Year': 2008, 'Genres': ['Science', 'Fiction', 'Dystopian', 'Young', 'Adult']}, {'Book ID': 13, 'Title': 'The Road', 'Author': 'Cormac McCarthy', 'Year': 2006, 'Genres': ['Fiction', 'Post-Apocalyptic']}, {'Book ID': 2, 'Title': 'To Kill a Mockingbird', 'Author': 'Harper Lee', 'Year': 1960, 'Genres': ['Fiction', 'Classics']}]\n"
     ]
    }
   ],
   "source": [
    "print(sort_book_by_title(li))"
   ]
  },
  {
   "cell_type": "code",
   "execution_count": 76,
   "metadata": {
    "id": "X4PyuHTMUgHl"
   },
   "outputs": [
    {
     "name": "stdout",
     "output_type": "stream",
     "text": [
      "[{'Book ID': 6, 'Title': 'Pride and Prejudice', 'Author': 'Jane Austen', 'Year': 1813, 'Genres': ['Fiction', 'Romance', 'Classics']}, {'Book ID': 3, 'Title': 'The Great Gatsby', 'Author': 'F. Scott Fitzgerald', 'Year': 1925, 'Genres': ['Fiction', 'Classics']}, {'Book ID': 11, 'Title': 'Gone with the Wind', 'Author': 'Margaret Mitchell', 'Year': 1936, 'Genres': ['Historical', 'Fiction', 'Romance']}, {'Book ID': 7, 'Title': 'The Hobbit', 'Author': 'J.R.R. Tolkien', 'Year': 1937, 'Genres': ['Fantasy', 'Adventure']}, {'Book ID': 4, 'Title': '1984', 'Author': 'George Orwell', 'Year': 1949, 'Genres': ['Fiction', 'Dystopian']}, {'Book ID': 10, 'Title': 'The Chronicles of Narnia', 'Author': 'C.S. Lewis', 'Year': 1950, 'Genres': ['Fantasy', \"Children's\", 'Literature']}, {'Book ID': 2, 'Title': 'To Kill a Mockingbird', 'Author': 'Harper Lee', 'Year': 1960, 'Genres': ['Fiction', 'Classics']}, {'Book ID': 15, 'Title': 'The Alchemist', 'Author': 'Paulo Coelho', 'Year': 1988, 'Genres': ['Fiction', 'Inspirational']}, {'Book ID': 1, 'Title': \"Harry Potter and the Sorcerer's Stone\", 'Author': 'J.K. Rowling', 'Year': 1997, 'Genres': ['Fantasy', 'Young', 'Adult']}, {'Book ID': 9, 'Title': 'The Da Vinci Code', 'Author': 'Dan Brown', 'Year': 2003, 'Genres': ['Mystery', 'Thriller']}, {'Book ID': 14, 'Title': 'The Girl with the Dragon Tattoo', 'Author': 'Stieg Larsson', 'Year': 2005, 'Genres': ['Mystery', 'Thriller']}, {'Book ID': 13, 'Title': 'The Road', 'Author': 'Cormac McCarthy', 'Year': 2006, 'Genres': ['Fiction', 'Post-Apocalyptic']}, {'Book ID': 8, 'Title': 'The Hunger Games', 'Author': 'Suzanne Collins', 'Year': 2008, 'Genres': ['Science', 'Fiction', 'Dystopian', 'Young', 'Adult']}, {'Book ID': 12, 'Title': 'Sapiens: A Brief History of Humankind', 'Author': 'Yuval Noah Harari', 'Year': 2011, 'Genres': ['Nonfiction', 'History', 'Science']}, {'Book ID': 16, 'Title': '2024 !', 'Author': 'George Orwell', 'Year': 2024, 'Genres': ['Fiction', 'Dystopian']}]\n"
     ]
    }
   ],
   "source": [
    "print(sort_book_by_year(li))"
   ]
  },
  {
   "cell_type": "markdown",
   "metadata": {
    "id": "KiaFO8rdiv4u"
   },
   "source": [
    "#### Q8: Create a function to bulk update genres of books using list comprehension. and test it."
   ]
  },
  {
   "cell_type": "code",
   "execution_count": 78,
   "metadata": {
    "id": "AbvXyE96UhVt"
   },
   "outputs": [],
   "source": [
    "def bulk_update_book(bookId = 0, old_genres = \"\", new_genress = \"\"):\n",
    "    check = False\n",
    "    for ind, l in enumerate(li):\n",
    "        if l[\"Book ID\"] == bookId:\n",
    "            li[ind][\"Genres\"] = [new_genress if old_genres == g else g for g in l[\"Genres\"]]\n",
    "            print(\"Update Genres \" + old_genres + \" To \" + new_genress)\n",
    "            check = True\n",
    "    if not check:\n",
    "        print(\"Book with ID 'num' does not exist.\")"
   ]
  },
  {
   "cell_type": "code",
   "execution_count": 80,
   "metadata": {
    "id": "AbvXyE96UhVt"
   },
   "outputs": [
    {
     "name": "stdout",
     "output_type": "stream",
     "text": [
      "Book title : To Kill a Mockingbird\n",
      "Book Author : Harper Lee\n",
      "Released year : 1960\n",
      "Genres : Fiction, Classics\n"
     ]
    }
   ],
   "source": [
    "show_book(2)"
   ]
  },
  {
   "cell_type": "code",
   "execution_count": 82,
   "metadata": {
    "id": "AbvXyE96UhVt"
   },
   "outputs": [
    {
     "name": "stdout",
     "output_type": "stream",
     "text": [
      "Update Genres Fiction To Action\n"
     ]
    }
   ],
   "source": [
    "bulk_update_book(2, \"Fiction\", \"Action\")"
   ]
  },
  {
   "cell_type": "code",
   "execution_count": 84,
   "metadata": {
    "id": "AbvXyE96UhVt"
   },
   "outputs": [
    {
     "name": "stdout",
     "output_type": "stream",
     "text": [
      "Book title : To Kill a Mockingbird\n",
      "Book Author : Harper Lee\n",
      "Released year : 1960\n",
      "Genres : Action, Classics\n"
     ]
    }
   ],
   "source": [
    "show_book(2)"
   ]
  },
  {
   "cell_type": "markdown",
   "metadata": {
    "id": "ZWkmOUNgi6V_"
   },
   "source": [
    "#### Q9: Implement a function to generate a report summarizing the library's statistics, including the total number of books, the number of books by each author, the number of books in each genre, and the oldest and newest books. and test it."
   ]
  },
  {
   "cell_type": "code",
   "execution_count": 86,
   "metadata": {
    "id": "Okjlb9pTUloe"
   },
   "outputs": [],
   "source": [
    "def summarizing():\n",
    "    length = len(li)\n",
    "    print(\"Totle number of books : \" + str(length))\n",
    "    print(\"\\n\")\n",
    "    \n",
    "    d1 = {}\n",
    "    for l in li:\n",
    "        if l[\"Author\"] in d1:\n",
    "            d1[l[\"Author\"]] = d1[l[\"Author\"]] + 1\n",
    "        else:\n",
    "            d1[l[\"Author\"]] = 1 \n",
    "    \n",
    "    print(\"Number of books by each author :\")\n",
    "    for i,j in d1.items():\n",
    "        print(i + \" -> \" + str(j))\n",
    "    \n",
    "    print(\"\\n\")\n",
    "    \n",
    "    d2 = {}\n",
    "    for l in li:\n",
    "        for i in l[\"Genres\"]:\n",
    "            if i in d2:\n",
    "                d2[i] = d2[i] + 1\n",
    "            else:\n",
    "                d2[i] = 1 \n",
    "\n",
    "    print(\"Number of books by each Genres :\")\n",
    "    for i,j in d2.items():\n",
    "        print(i + \" Had this number of Books : \" + str(j))\n",
    "\n",
    "    print(\"\\n\")\n",
    "\n",
    "    s = sorted(li, key=lambda x: x['Year'])\n",
    "    print(\"Old Book is \" + s[0][\"Title\"] + \" Wrote at \" + str(s[0][\"Year\"]) + \n",
    "          \" , New Book is \" + s[-1][\"Title\"] + \" Wrote at \" + str(s[-1][\"Year\"]))"
   ]
  },
  {
   "cell_type": "code",
   "execution_count": 88,
   "metadata": {
    "id": "Okjlb9pTUloe"
   },
   "outputs": [
    {
     "name": "stdout",
     "output_type": "stream",
     "text": [
      "Totle number of books : 15\n",
      "\n",
      "\n",
      "Number of books by each author :\n",
      "J.K. Rowling -> 1\n",
      "Harper Lee -> 1\n",
      "F. Scott Fitzgerald -> 1\n",
      "George Orwell -> 2\n",
      "Jane Austen -> 1\n",
      "J.R.R. Tolkien -> 1\n",
      "Suzanne Collins -> 1\n",
      "Dan Brown -> 1\n",
      "C.S. Lewis -> 1\n",
      "Margaret Mitchell -> 1\n",
      "Yuval Noah Harari -> 1\n",
      "Cormac McCarthy -> 1\n",
      "Stieg Larsson -> 1\n",
      "Paulo Coelho -> 1\n",
      "\n",
      "\n",
      "Number of books by each Genres :\n",
      "Fantasy Had this number of Books : 3\n",
      "Young Had this number of Books : 2\n",
      "Adult Had this number of Books : 2\n",
      "Action Had this number of Books : 1\n",
      "Classics Had this number of Books : 3\n",
      "Fiction Had this number of Books : 8\n",
      "Dystopian Had this number of Books : 3\n",
      "Romance Had this number of Books : 2\n",
      "Adventure Had this number of Books : 1\n",
      "Science Had this number of Books : 2\n",
      "Mystery Had this number of Books : 2\n",
      "Thriller Had this number of Books : 2\n",
      "Children's Had this number of Books : 1\n",
      "Literature Had this number of Books : 1\n",
      "Historical Had this number of Books : 1\n",
      "Nonfiction Had this number of Books : 1\n",
      "History Had this number of Books : 1\n",
      "Post-Apocalyptic Had this number of Books : 1\n",
      "Inspirational Had this number of Books : 1\n",
      "\n",
      "\n",
      "Old Book is Pride and Prejudice Wrote at 1813 , New Book is 2024 ! Wrote at 2024\n"
     ]
    }
   ],
   "source": [
    "summarizing()"
   ]
  },
  {
   "cell_type": "code",
   "execution_count": null,
   "metadata": {},
   "outputs": [],
   "source": []
  }
 ],
 "metadata": {
  "colab": {
   "provenance": []
  },
  "kernelspec": {
   "display_name": "Python 3 (ipykernel)",
   "language": "python",
   "name": "python3"
  },
  "language_info": {
   "codemirror_mode": {
    "name": "ipython",
    "version": 3
   },
   "file_extension": ".py",
   "mimetype": "text/x-python",
   "name": "python",
   "nbconvert_exporter": "python",
   "pygments_lexer": "ipython3",
   "version": "3.11.7"
  }
 },
 "nbformat": 4,
 "nbformat_minor": 4
}
